{
 "cells": [
  {
   "cell_type": "code",
   "execution_count": 1,
   "metadata": {},
   "outputs": [],
   "source": [
    "import os\n",
    "import glob\n",
    "import pandas as pd\n",
    "import sqlite3"
   ]
  },
  {
   "cell_type": "code",
   "execution_count": 2,
   "metadata": {},
   "outputs": [],
   "source": [
    "root_directory = os.path.join('..', 'files', 'input')\n",
    "\n",
    "tbl0, tbl1, tbl2 = glob.glob(f'{root_directory}/*')\n",
    "\n",
    "columns_tbl0 = ['K0', 'c01', 'c02', 'c03', 'c04']\n",
    "columns_tbl1 = ['K0', 'K1', 'c12', 'c13', 'c14', 'c15', 'c16']\n",
    "columns_tbl2 = ['K1', 'c21', 'c22', 'c23', 'c24', 'c25']\n",
    "\n",
    "\n",
    "def load_data(directory, columns, name_tbl, connection):\n",
    "\n",
    "    df = pd.read_csv(\n",
    "        directory,\n",
    "        names=columns\n",
    "    )\n",
    "\n",
    "    df.to_sql(\n",
    "        name=name_tbl,\n",
    "        con=connection,\n",
    "        if_exists='replace'\n",
    "    )\n",
    "\n",
    "    return print(f'se creó {name_tbl} en la base de datos')"
   ]
  },
  {
   "cell_type": "code",
   "execution_count": 3,
   "metadata": {},
   "outputs": [],
   "source": [
    "con = sqlite3.connect(':memory:')\n",
    "cur = con.cursor()"
   ]
  },
  {
   "cell_type": "code",
   "execution_count": 4,
   "metadata": {},
   "outputs": [
    {
     "name": "stdout",
     "output_type": "stream",
     "text": [
      "se creó tbl0 en la base de datos\n",
      "se creó tbl1 en la base de datos\n",
      "se creó tbl2 en la base de datos\n"
     ]
    }
   ],
   "source": [
    "load_data(directory=tbl0, columns=columns_tbl0, name_tbl='tbl0', connection=con)\n",
    "load_data(directory=tbl1, columns=columns_tbl1, name_tbl='tbl1', connection=con)\n",
    "load_data(directory=tbl2, columns=columns_tbl2, name_tbl='tbl2', connection=con)"
   ]
  },
  {
   "cell_type": "code",
   "execution_count": null,
   "metadata": {},
   "outputs": [],
   "source": [
    "cur.execute(\n",
    "    \"\"\"\n",
    "    SELECT name\n",
    "    FROM sqlite_master\n",
    "    WHERE type='table';\n",
    "    \"\"\"\n",
    ").fetchall()"
   ]
  },
  {
   "cell_type": "code",
   "execution_count": 5,
   "metadata": {},
   "outputs": [
    {
     "data": {
      "text/plain": [
       "[(15137.63,)]"
      ]
     },
     "execution_count": 5,
     "metadata": {},
     "output_type": "execute_result"
    }
   ],
   "source": [
    "cur.execute(\n",
    "    \"\"\"\n",
    "    SELECT SUM(c12)\n",
    "    FROM tbl1;\n",
    "    \"\"\"\n",
    ").fetchall()"
   ]
  },
  {
   "cell_type": "code",
   "execution_count": 6,
   "metadata": {},
   "outputs": [
    {
     "data": {
      "text/plain": [
       "[(30,)]"
      ]
     },
     "execution_count": 6,
     "metadata": {},
     "output_type": "execute_result"
    }
   ],
   "source": [
    "cur.execute(\n",
    "    \"\"\"\n",
    "    SELECT COUNT(*)\n",
    "    FROM tbl1;\n",
    "    \"\"\"\n",
    ").fetchall()"
   ]
  },
  {
   "cell_type": "code",
   "execution_count": 7,
   "metadata": {},
   "outputs": [
    {
     "data": {
      "text/plain": [
       "[(19, 'A', 20, 938.16, 300, '2016-09-12', 0.19, 'BECB'),\n",
       " (14, 'C', 15, 370.58, 900, '2016-10-01', 0.11, 'GCDD'),\n",
       " (21, 'E', 22, 118.77, 900, '2016-10-29', 0.32, 'GEFE'),\n",
       " (11, 'B', 12, 999.72, 800, '2016-11-09', 0.26, 'FCGD'),\n",
       " (13, 'E', 14, 832.44, 800, '2016-11-22', 0.39, 'EGFD')]"
      ]
     },
     "execution_count": 7,
     "metadata": {},
     "output_type": "execute_result"
    }
   ],
   "source": [
    "cur.execute(\n",
    "    \"\"\"\n",
    "    SELECT *\n",
    "    FROM tbl1\n",
    "    ORDER BY c14 ASC\n",
    "    LIMIT 5;\n",
    "    \"\"\"\n",
    ").fetchall()"
   ]
  },
  {
   "cell_type": "code",
   "execution_count": 8,
   "metadata": {},
   "outputs": [
    {
     "data": {
      "text/plain": [
       "[('E', 'EGFD'), ('B', 'BDEE'), ('C', 'CCCE')]"
      ]
     },
     "execution_count": 8,
     "metadata": {},
     "output_type": "execute_result"
    }
   ],
   "source": [
    "cur.execute(\n",
    "    \"\"\"\n",
    "    SELECT k0, c16\n",
    "    FROM tbl1\n",
    "    WHERE SUBSTR(c16, 1, 1) = k0;\n",
    "    \"\"\"\n",
    ").fetchall()"
   ]
  },
  {
   "cell_type": "code",
   "execution_count": 10,
   "metadata": {},
   "outputs": [
    {
     "data": {
      "text/plain": [
       "[(1, 'B', 7000, 100, 'OLPKN', 0.2),\n",
       " (2, 'C', 1000, 600, 'LMMML', 0.2),\n",
       " (3, 'D', 4000, 600, 'PJLJL', 0.4),\n",
       " (6, 'G', 5000, 100, 'NLPLO', 0.2)]"
      ]
     },
     "execution_count": 10,
     "metadata": {},
     "output_type": "execute_result"
    }
   ],
   "source": [
    "cur.execute(\n",
    "    \"\"\"\n",
    "    SELECT *\n",
    "    FROM tbl0\n",
    "    WHERE c02 = 100 OR c02 = 600;\n",
    "    \"\"\"\n",
    ").fetchall()"
   ]
  },
  {
   "cell_type": "code",
   "execution_count": 9,
   "metadata": {},
   "outputs": [
    {
     "data": {
      "text/plain": [
       "[(19, 'A', 20, 938.16, 300, '2016-09-12', 0.19, 'BECB'),\n",
       " (29, 'A', 30, 135.8, 900, '2017-01-26', 0.23, 'EGAB'),\n",
       " (17, 'A', 18, 142.99, 100, '2017-02-12', 0.48, 'GGFD'),\n",
       " (25, 'A', 26, 456.47, 400, '2018-01-28', 0.11, 'FGED'),\n",
       " (5, 'A', 6, 391.42, 300, '2018-05-15', 0.22, 'BFGB'),\n",
       " (9, 'A', 10, 816.51, 600, '2019-04-25', 0.4, 'DAGC')]"
      ]
     },
     "execution_count": 9,
     "metadata": {},
     "output_type": "execute_result"
    }
   ],
   "source": [
    "cur.execute(\n",
    "    \"\"\"\n",
    "    SELECT *\n",
    "    FROM tbl1\n",
    "    WHERE K0 = 'A'\n",
    "    ORDER BY c14 ASC;\n",
    "    \"\"\"\n",
    ").fetchall()"
   ]
  },
  {
   "cell_type": "code",
   "execution_count": 11,
   "metadata": {},
   "outputs": [
    {
     "data": {
      "text/plain": [
       "[(13, 'E', 14, 832.44, 800, '2016-11-22', 0.39, 'EGFD'),\n",
       " (7, 'E', 8, 302.86, 700, '2016-12-22', 0.14, 'DFCC'),\n",
       " (0, 'E', 1, 273.08, 600, '2016-12-31', 0.21, 'BDGD'),\n",
       " (26, 'E', 27, 720.9, 800, '2017-01-16', 0.12, 'FBGD'),\n",
       " (3, 'D', 4, 662.69, 800, '2017-03-26', 0.23, 'BGDD'),\n",
       " (2, 'E', 3, 305.43, 100, '2017-05-21', 0.21, 'BAED'),\n",
       " (12, 'C', 13, 712.61, 400, '2017-10-23', 0.31, 'EDDA'),\n",
       " (4, 'C', 5, 822.81, 100, '2017-11-17', 0.35, 'GGFC'),\n",
       " (6, 'C', 7, 755.27, 800, '2018-07-04', 0.47, 'GCDB'),\n",
       " (24, 'E', 25, 600.9, 700, '2018-11-07', 0.36, 'BBBA'),\n",
       " (1, 'D', 2, 756.37, 500, '2019-02-28', 0.37, 'BCCC'),\n",
       " (18, 'C', 19, 570.43, 400, '2019-04-12', 0.48, 'FBEE'),\n",
       " (23, 'C', 24, 482.32, 300, '2019-05-03', 0.11, 'CCCE')]"
      ]
     },
     "execution_count": 11,
     "metadata": {},
     "output_type": "execute_result"
    }
   ],
   "source": [
    "cur.execute(\n",
    "    \"\"\"\n",
    "    SELECT *\n",
    "    FROM tbl1\n",
    "    WHERE k0 NOT IN ('A', 'B') AND c13 NOT IN (200, 900)\n",
    "    ORDER BY c14 ASC;\n",
    "    \"\"\"\n",
    ").fetchall()"
   ]
  },
  {
   "cell_type": "code",
   "execution_count": 21,
   "metadata": {},
   "outputs": [
    {
     "data": {
      "text/plain": [
       "[('2016', 564.4764285714285),\n",
       " ('2017', 515.1563636363637),\n",
       " ('2018', 557.5593749999999),\n",
       " ('2019', 550.9985714285714)]"
      ]
     },
     "execution_count": 21,
     "metadata": {},
     "output_type": "execute_result"
    }
   ],
   "source": [
    "cur.execute(\n",
    "        \"\"\"\n",
    "        SELECT  STRFTIME('%Y', c23) AS YEAR,\n",
    "                AVG(c21)\n",
    "        FROM tbl2\n",
    "        GROUP BY YEAR;\n",
    "        \"\"\"\n",
    ").fetchall()"
   ]
  },
  {
   "cell_type": "code",
   "execution_count": 13,
   "metadata": {},
   "outputs": [
    {
     "data": {
      "text/plain": [
       "[(81, 29, 101.11, 100, '2017-11-17', 0.42, 'MV-CB')]"
      ]
     },
     "execution_count": 13,
     "metadata": {},
     "output_type": "execute_result"
    }
   ],
   "source": [
    "cur.execute(\n",
    "    \"\"\"\n",
    "    SELECT *\n",
    "    FROM tbl2\n",
    "    WHERE c21 = (\n",
    "        SELECT MIN(c21)\n",
    "        FROM tbl2\n",
    "    );\n",
    "    \"\"\"\n",
    ").fetchall()"
   ]
  },
  {
   "cell_type": "code",
   "execution_count": 14,
   "metadata": {},
   "outputs": [
    {
     "data": {
      "text/plain": [
       "[(0, 'A', 5000, 900, 'NMNJL', 0.4),\n",
       " (2, 'C', 1000, 600, 'LMMML', 0.2),\n",
       " (3, 'D', 4000, 600, 'PJLJL', 0.4),\n",
       " (5, 'F', 2000, 300, 'NNPJO', 0.3),\n",
       " (8, 'I', 3000, 300, 'PPPPL', 0.3)]"
      ]
     },
     "execution_count": 14,
     "metadata": {},
     "output_type": "execute_result"
    }
   ],
   "source": [
    "cur.execute(\n",
    "    \"\"\"\n",
    "    SELECT *\n",
    "    FROM tbl0\n",
    "    WHERE c02 >= 300;\n",
    "    \"\"\"\n",
    ").fetchall()"
   ]
  },
  {
   "cell_type": "code",
   "execution_count": 20,
   "metadata": {},
   "outputs": [
    {
     "data": {
      "text/plain": [
       "[('2018', 6)]"
      ]
     },
     "execution_count": 20,
     "metadata": {},
     "output_type": "execute_result"
    }
   ],
   "source": [
    "cur.execute(\n",
    "    \"\"\"\n",
    "    SELECT  STRFTIME('%Y', c14) AS YEAR,\n",
    "            COUNT(*) AS CANT\n",
    "    FROM tbl1\n",
    "    GROUP BY Year\n",
    "    HAVING Year = '2018';\n",
    "    \"\"\"\n",
    ").fetchall()"
   ]
  },
  {
   "cell_type": "code",
   "execution_count": 18,
   "metadata": {},
   "outputs": [
    {
     "data": {
      "text/plain": [
       "[('A', 938.16, 135.8),\n",
       " ('B', 999.72, 283.4),\n",
       " ('C', 822.81, 267.42),\n",
       " ('D', 756.37, 317.77),\n",
       " ('E', 832.44, 118.77)]"
      ]
     },
     "execution_count": 18,
     "metadata": {},
     "output_type": "execute_result"
    }
   ],
   "source": [
    "cur.execute(\n",
    "    \"\"\"\n",
    "    SELECT  k0,\n",
    "            MAX(c12),\n",
    "            MIN(c12)\n",
    "    FROM tbl1\n",
    "    GROUP BY k0;\n",
    "    \"\"\"\n",
    ").fetchall()"
   ]
  },
  {
   "cell_type": "code",
   "execution_count": 22,
   "metadata": {},
   "outputs": [
    {
     "data": {
      "text/plain": [
       "[('A', 476.16), ('B', 536.52), ('C', 490.83), ('D', 709.53), ('E', 474.83)]"
      ]
     },
     "execution_count": 22,
     "metadata": {},
     "output_type": "execute_result"
    }
   ],
   "source": [
    "cur.execute(\n",
    "    \"\"\"\n",
    "    SELECT  k0,\n",
    "            ROUND(AVG(c12), 2)\n",
    "    FROM tbl1\n",
    "    WHERE c13 > 400\n",
    "    GROUP BY k0;\n",
    "    \"\"\"\n",
    ").fetchall()"
   ]
  },
  {
   "cell_type": "code",
   "execution_count": 17,
   "metadata": {},
   "outputs": [
    {
     "data": {
      "text/plain": [
       "[('A', 593.495),\n",
       " ('B', 575.47),\n",
       " ('C', 530.7529999999999),\n",
       " ('D', 655.6125),\n",
       " ('E', 555.323076923077)]"
      ]
     },
     "execution_count": 17,
     "metadata": {},
     "output_type": "execute_result"
    }
   ],
   "source": [
    "cur.execute(\n",
    "    \"\"\"\n",
    "    SELECT  T1.k0,\n",
    "            AVG(T2.c21)\n",
    "    FROM tbl1 T1\n",
    "    LEFT JOIN tbl2 T2 ON T1.k1 = T2.k1\n",
    "    WHERE T1.c13 > 400\n",
    "    GROUP BY T1.k0;\n",
    "    \"\"\"\n",
    ").fetchall()"
   ]
  }
 ],
 "metadata": {
  "kernelspec": {
   "display_name": ".venv",
   "language": "python",
   "name": "python3"
  },
  "language_info": {
   "codemirror_mode": {
    "name": "ipython",
    "version": 3
   },
   "file_extension": ".py",
   "mimetype": "text/x-python",
   "name": "python",
   "nbconvert_exporter": "python",
   "pygments_lexer": "ipython3",
   "version": "3.10.9"
  }
 },
 "nbformat": 4,
 "nbformat_minor": 2
}
